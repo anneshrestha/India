{
 "cells": [
  {
   "cell_type": "code",
   "execution_count": 63,
   "metadata": {
    "collapsed": true
   },
   "outputs": [],
   "source": [
    "from bs4 import BeautifulSoup\n",
    "import urllib2\n",
    "import requests\n",
    "import pandas as pd"
   ]
  },
  {
   "cell_type": "code",
   "execution_count": 64,
   "metadata": {
    "collapsed": false
   },
   "outputs": [],
   "source": [
    "source=requests.get('http://myneta.info/ls2014/index.php?action=summary&subAction=candidates_analyzed&sort=candidate#summary')"
   ]
  },
  {
   "cell_type": "code",
   "execution_count": 65,
   "metadata": {
    "collapsed": false
   },
   "outputs": [],
   "source": [
    "tree= BeautifulSoup(source.text,\"html.parser\")"
   ]
  },
  {
   "cell_type": "code",
   "execution_count": 66,
   "metadata": {
    "collapsed": false
   },
   "outputs": [
    {
     "data": {
      "text/plain": [
       "22"
      ]
     },
     "execution_count": 66,
     "metadata": {},
     "output_type": "execute_result"
    }
   ],
   "source": [
    "len(tree)"
   ]
  },
  {
   "cell_type": "code",
   "execution_count": 67,
   "metadata": {
    "collapsed": false
   },
   "outputs": [
    {
     "data": {
      "text/plain": [
       "<title>Total candidates analyzed by NEW:Loksabha 2014 Election</title>"
      ]
     },
     "execution_count": 67,
     "metadata": {},
     "output_type": "execute_result"
    }
   ],
   "source": [
    "tree.title"
   ]
  },
  {
   "cell_type": "code",
   "execution_count": 68,
   "metadata": {
    "collapsed": false
   },
   "outputs": [],
   "source": [
    "all_links = tree.find_all('a')"
   ]
  },
  {
   "cell_type": "code",
   "execution_count": 69,
   "metadata": {
    "collapsed": false
   },
   "outputs": [],
   "source": [
    "table_pol = tree.findAll('table')[2]\n",
    "rows = table_pol.findAll(\"tr\")[2:]"
   ]
  },
  {
   "cell_type": "code",
   "execution_count": 70,
   "metadata": {
    "collapsed": false
   },
   "outputs": [],
   "source": [
    "# We build one dictionary per candidate #\n",
    "\n",
    "def c_link(r):\n",
    "    return r.find(\"a\").get(\"href\")\n",
    "def name(r):\n",
    "    return r.find(\"a\").get_text()\n",
    "def cols(r):\n",
    "    return r.findAll(\"td\")\n",
    "def assets(r):\n",
    "    col = cols(r)\n",
    "    ass = col[6].get_text().split(\"~\")[0].encode('ascii', 'ignore').replace(\"Rs\",\"\").replace(\",\",\"\")\n",
    "    return ass\n",
    "def liab(r):\n",
    "    col = cols(r)\n",
    "    liabilities = int(col[7].get_text().split(\"~\")[0].encode('ascii', 'ignore').replace(\"Rs\",\"\").replace(\",\",\"\"))\n",
    "    return liabilities\n",
    "\n",
    "info_candidate = lambda r: [int(cols(r)[0].get_text()), r.find(\"a\").get(\"href\"),r.find(\"a\").get_text(),\n",
    "                            cols(r)[2].get_text(),cols(r)[3].get_text(),cols(r)[5].get_text(),\n",
    "                            cols(r)[4].get_text(),assets(r), liab(r)]\n",
    "\n",
    "title = ['id','url','name','district','party','education','nr_crime','assets','liabilities']\n",
    "dict_candidates = [dict(zip(title,info_candidate(r))) for r in rows]"
   ]
  },
  {
   "cell_type": "code",
   "execution_count": 71,
   "metadata": {
    "collapsed": false
   },
   "outputs": [
    {
     "data": {
      "text/plain": [
       "[{'assets': '154566136 ',\n",
       "  'district': u'NAWADA',\n",
       "  'education': u'Post Graduate',\n",
       "  'id': 1,\n",
       "  'liabilities': 2604969,\n",
       "  'name': u'Kaushal Yadav',\n",
       "  'nr_crime': u'8',\n",
       "  'party': u'JD(U)',\n",
       "  'url': u'candidate.php?candidate_id=148'},\n",
       " {'assets': '2191523 ',\n",
       "  'district': u'AZAMGARH',\n",
       "  'education': u'Others',\n",
       "  'id': 2,\n",
       "  'liabilities': 0,\n",
       "  'name': u'M. Aamir Rashadi',\n",
       "  'nr_crime': u'1',\n",
       "  'party': u'Rashtriya Ulama Council',\n",
       "  'url': u'candidate.php?candidate_id=9496'},\n",
       " {'assets': '306023 ',\n",
       "  'district': u'MAHARAJGANJ',\n",
       "  'education': u'Graduate Professional',\n",
       "  'id': 3,\n",
       "  'liabilities': 0,\n",
       "  'name': u'Rakesh Kumar Giri',\n",
       "  'nr_crime': u'0',\n",
       "  'party': u'IND',\n",
       "  'url': u'candidate.php?candidate_id=9706'},\n",
       " {'assets': '3630000 ',\n",
       "  'district': u'CHENNAI SOUTH',\n",
       "  'education': u'8th Pass',\n",
       "  'id': 4,\n",
       "  'liabilities': 850000,\n",
       "  'name': u'(Kuppal)G.Devadoss',\n",
       "  'nr_crime': u'0',\n",
       "  'party': u'IND',\n",
       "  'url': u'candidate.php?candidate_id=6912'},\n",
       " {'assets': '44357368 ',\n",
       "  'district': u'GARHWAL',\n",
       "  'education': u'Graduate Professional',\n",
       "  'id': 5,\n",
       "  'liabilities': 0,\n",
       "  'name': u'(Maj Gen (Retd.) ) Bhuwan Chandra Khanduri (Avsm)',\n",
       "  'nr_crime': u'0',\n",
       "  'party': u'BJP',\n",
       "  'url': u'candidate.php?candidate_id=74'}]"
      ]
     },
     "execution_count": 71,
     "metadata": {},
     "output_type": "execute_result"
    }
   ],
   "source": [
    "len(dict_candidates)\n",
    "dict_candidates[0:5]"
   ]
  },
  {
   "cell_type": "code",
   "execution_count": 72,
   "metadata": {
    "collapsed": false
   },
   "outputs": [],
   "source": [
    "# Now we create a really big dictionary which stores url and page for each candidate\n",
    "# Work in progress...\n",
    "def url_aggregator(url):\n",
    "    full_url = \"http://myneta.info/ls2014/\"+url\n",
    "    page = requests.get(full_url)\n",
    "    url_page = [url, page]\n",
    "    return url_page\n",
    "\n",
    "#titles = ['url','id_page']\n",
    "#dict_allpages = dict(zip(titles,url_aggregator(url)) for url in dict_candidate['url'])"
   ]
  },
  {
   "cell_type": "code",
   "execution_count": 73,
   "metadata": {
    "collapsed": false
   },
   "outputs": [
    {
     "name": "stdout",
     "output_type": "stream",
     "text": [
      "http://myneta.info/ls2014/candidate.php?candidate_id=2885\n"
     ]
    }
   ],
   "source": [
    "# Now each candidate has an url - so later we  will parse each of their pages and scrape them#\n",
    "#But first let's look how the page looks like for a few individual candidates\n",
    "short_url = dict_candidates[1555]['url']\n",
    "full_url = \"http://myneta.info/ls2014/\"+short_url\n",
    "print full_url\n",
    "page_candidate = requests.get(full_url)\n",
    "c_soup = BeautifulSoup(page_candidate.text,\"html.parser\")"
   ]
  },
  {
   "cell_type": "code",
   "execution_count": 74,
   "metadata": {
    "collapsed": false
   },
   "outputs": [
    {
     "name": "stdout",
     "output_type": "stream",
     "text": [
      "DASHRATH GAGRAI  \n",
      " works as a: Agriculture . \n",
      " Profession of spouse: Agriculture & Para Teacher . \n",
      " Address:              R/O Vill-Losodiki,Po jojo Kudma,Panchayat Telahidih,Parkhand Kharsawa Thana Kharsawa,Distt-Saraykela Kharsawa,Pin 833102 , in district:  \n",
      "        SINGHBHUM  (JHARKHAND)\n",
      "         for party: JVM(P)\n",
      "  The dude is 38 years old\n",
      "\n",
      " \n",
      " \n",
      "9\n",
      "<table class=\"table1\" width=\"100%\"><tr valign=\"top\"><td>\n",
      "<h3 class=\"title blue\">Cases where charges framed</h3>\n",
      "<table border=\"1\" cellpadding=\"1\" width=\"80%\">\n",
      "<tr style=\"font-weight:bold\"><td>Serial No.</td><td>IPC Sections Applicable</td><td>Other Details / Other Acts / Sections Applicable</td></tr>\n",
      "<tr><td> 1</td><td>426, 427 </td><td> P.s.Chakardharpur Case no 152/10 ,08.02.09 (G.R.Case no.327/2009)10.05.2010 West Sighbhoom Chaibasa Jharkhand 3PDP Act Sub Divisinol Judicial Magistrate Podahat Chaibasa 19.02.03  Case pending For Witness  </td></tr>\n",
      "</table>\n",
      "<h3 class=\"title blue\">Cases where Cognizance taken</h3>\n",
      "<table border=\"1\" cellpadding=\"1\" width=\"80%\">\n",
      "<tr style=\"font-weight:bold\"><td>Serial No.</td><td>IPC Sections Applicable</td><td>Other Details / Other Acts / Sections Applicable</td></tr>\n",
      "<tr><td> 1</td><td>147,  148,  149, 447,  307,  379,  427,  323,  324,  411 </td><td> Cogizance  Date 03.08.2013 Gr No-Case no 55/11(S), ACJM  Saraykela, kharsaba  Jharkhand,  </td></tr>\n",
      "</table>\n",
      "<h3 class=\"title blue\">Cases where convicted</h3>\n",
      "<table border=\"1\" cellpadding=\"1\" width=\"80%\">\n",
      "<tr style=\"font-weight:bold\"><td>Serial No.</td><td>IPC Sections Applicable</td><td>Other Details / Other Acts / Sections Applicable</td></tr>\n",
      "<tr><td> 1</td><td> </td><td> Chakerdhar(Tokolo) Thana Case No-76/2000,Sec.25(1-b) A/26/35 Arms Act,Gr Case No-159/2000,Criminal Apeal No-100/2005 Sub Divisinol Judicial Magistrate Podahat Chaibasa(Arms Act Sec 25(1-b)A 3Years Jail &amp;fine; 500rs( (Sec 26-2Years Jail &amp;500Fine ) Cr no 100/2005 Appeal Accepted &amp; 08.02.2007 Released On Bond  </td></tr>\n",
      "</table></td><td><h3 class=\"title blue\">Brief Details of IPCs</h3> <b>1 charges related to Attempt to murder (IPC Section-307)</b><hr><b>1 charges related to  theft (IPC Section-379)</b><hr><b>1 charges related to Voluntarily causing hurt by dangerous weapons or means (IPC Section-324)</b><hr><b>1 charges related to Dishonestly receiving stolen property (IPC Section-411)</b><hr>2 charges related to Mischief causing damage to the amount of fifty rupees (IPC Section-427)<hr>1 charges related to  rioting (IPC Section-147)<hr>1 charges related to Rioting, armed with deadly weapon (IPC Section-148)<hr>1 charges related to Every member of unlawful assembly guilty of offence committed in prosecution of common object (IPC Section-149)<hr>1 charges related to  criminal trespass (IPC Section-447)<hr>1 charges related to  voluntarily causing hurt (IPC Section-323)<hr>1 charges related to Punished for mischief (IPC Section-426)<hr> </hr></hr></hr></hr></hr></hr></hr></hr></hr></hr></hr></td></tr></table>\n"
     ]
    }
   ],
   "source": [
    "#### Personal info #########\n",
    "\n",
    "personal = c_soup.findAll(attrs={\"class\": \"grid_3 alpha\"})[0]\n",
    "full_name = personal.find(\"h2\").get_text()\n",
    "district1 = personal.find(\"h5\").get_text()\n",
    "grid2 = personal.findAll(attrs={\"class\":\"grid_2 alpha\"})\n",
    "party_full = grid2[0].get_text().split(\":\")[1]\n",
    "age = int(grid2[2].get_text().split(\":\")[1])\n",
    "address = grid2[3].get_text().split(\":\")[1].split(\"\\n\")[1] # Careful this one changes\n",
    "self_profession = personal.find(\"p\").get_text().split('\\n')[0].split(\":\")[1]\n",
    "spouse_profession = personal.find(\"p\").get_text().split('\\n')[1].split(\":\")[1]\n",
    "print full_name, \"\\n works as a:\", self_profession, \". \\n Profession of spouse:\", spouse_profession, \". \\n Address: \",\n",
    "print address, \", in district: \", district1, \"for party:\", party_full, \"The dude is\", age, \"years old\"\n",
    "\n",
    "########## Assets  & Criminality ###########\n",
    "# Ok let's get serious and find his assets and criminal activity\n",
    "all_tables = c_soup.findAll(\"table\")\n",
    "print \"\\n \\n \\n\" , len(all_tables)\n",
    "table_inc = all_tables[0]\n",
    "table_crim = all_tables[1]\n",
    "table_assets1 = all_tables[2]\n",
    "table_assets2 = all_tables[3]\n",
    "table_liab = all_tables[4]\n",
    "#print table_inc\n",
    "# That does not really work: some have a table for criminal activities, others not\n",
    "# So we need more work to know exactly how to have the right table correspond to the right thing\n"
   ]
  },
  {
   "cell_type": "code",
   "execution_count": null,
   "metadata": {
    "collapsed": true
   },
   "outputs": [],
   "source": []
  }
 ],
 "metadata": {
  "kernelspec": {
   "display_name": "Python 2",
   "language": "python",
   "name": "python2"
  },
  "language_info": {
   "codemirror_mode": {
    "name": "ipython",
    "version": 2
   },
   "file_extension": ".py",
   "mimetype": "text/x-python",
   "name": "python",
   "nbconvert_exporter": "python",
   "pygments_lexer": "ipython2",
   "version": "2.7.10"
  }
 },
 "nbformat": 4,
 "nbformat_minor": 0
}
