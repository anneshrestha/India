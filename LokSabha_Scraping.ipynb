{
 "cells": [
  {
   "cell_type": "code",
   "execution_count": 1,
   "metadata": {
    "collapsed": true
   },
   "outputs": [],
   "source": [
    "from bs4 import BeautifulSoup\n",
    "import urllib2\n",
    "import requests"
   ]
  },
  {
   "cell_type": "code",
   "execution_count": 2,
   "metadata": {
    "collapsed": false
   },
   "outputs": [],
   "source": [
    "source=urllib2.urlopen('http://myneta.info/ls2014/index.php?action=summary&subAction=candidates_analyzed&sort=candidate#summary')"
   ]
  },
  {
   "cell_type": "code",
   "execution_count": 3,
   "metadata": {
    "collapsed": false
   },
   "outputs": [],
   "source": [
    "tree= BeautifulSoup(source,\"html.parser\")"
   ]
  },
  {
   "cell_type": "code",
   "execution_count": 4,
   "metadata": {
    "collapsed": false
   },
   "outputs": [
    {
     "data": {
      "text/plain": [
       "22"
      ]
     },
     "execution_count": 4,
     "metadata": {},
     "output_type": "execute_result"
    }
   ],
   "source": [
    "len(tree)"
   ]
  },
  {
   "cell_type": "code",
   "execution_count": 5,
   "metadata": {
    "collapsed": false
   },
   "outputs": [
    {
     "data": {
      "text/plain": [
       "<title>Total candidates analyzed by NEW:Loksabha 2014 Election</title>"
      ]
     },
     "execution_count": 5,
     "metadata": {},
     "output_type": "execute_result"
    }
   ],
   "source": [
    "tree.title"
   ]
  },
  {
   "cell_type": "code",
   "execution_count": 6,
   "metadata": {
    "collapsed": false
   },
   "outputs": [],
   "source": [
    "all_links = tree.find_all('a')"
   ]
  },
  {
   "cell_type": "code",
   "execution_count": 7,
   "metadata": {
    "collapsed": false
   },
   "outputs": [],
   "source": [
    "table_pol = tree.findAll('table')[2]\n",
    "rows = table_pol.findAll(\"tr\")[2:]"
   ]
  },
  {
   "cell_type": "code",
   "execution_count": 16,
   "metadata": {
    "collapsed": false
   },
   "outputs": [],
   "source": [
    "# We build one dictionary per candidate #\n",
    "\n",
    "def c_link(r):\n",
    "    return r.find(\"a\").get(\"href\")\n",
    "def name(r):\n",
    "    return r.find(\"a\").get_text()\n",
    "def cols(r):\n",
    "    return r.findAll(\"td\")\n",
    "def assets(r):\n",
    "    col = cols(r)\n",
    "    ass = col[6].get_text().split(\"~\")[0].encode('ascii', 'ignore').replace(\"Rs\",\"\").replace(\",\",\"\")\n",
    "    return ass\n",
    "def liab(r):\n",
    "    col = cols(r)\n",
    "    liabilities = int(col[7].get_text().split(\"~\")[0].encode('ascii', 'ignore').replace(\"Rs\",\"\").replace(\",\",\"\"))\n",
    "    return liabilities\n",
    "\n",
    "info_candidate = lambda r: [int(cols(r)[0].get_text()), r.find(\"a\").get(\"href\"),r.find(\"a\").get_text(),\n",
    "                            cols(r)[2].get_text(),cols(r)[3].get_text(),cols(r)[5].get_text(),\n",
    "                            cols(r)[4].get_text(),assets(r), liab(r)]\n",
    "\n",
    "title = ['id','url','name','district','party','education','nr_crime','assets','liabilities']\n",
    "dict_candidates = [dict(zip(title,info_candidate(r))) for r in rows]"
   ]
  },
  {
   "cell_type": "code",
   "execution_count": 17,
   "metadata": {
    "collapsed": false
   },
   "outputs": [
    {
     "data": {
      "text/plain": [
       "8204"
      ]
     },
     "execution_count": 17,
     "metadata": {},
     "output_type": "execute_result"
    }
   ],
   "source": [
    "len(dict_candidates)"
   ]
  },
  {
   "cell_type": "code",
   "execution_count": 90,
   "metadata": {
    "collapsed": false
   },
   "outputs": [
    {
     "name": "stdout",
     "output_type": "stream",
     "text": [
      "http://myneta.info/ls2014/candidate.php?candidate_id=2885\n"
     ]
    }
   ],
   "source": [
    "# Now each candidate has an url - so we parse each of their pages and scrape them#\n",
    "short_url = dict_candidates[1555]['url']\n",
    "full_url = \"http://myneta.info/ls2014/\"+short_url\n",
    "print full_url\n",
    "page_candidate = requests.get(full_url)\n",
    "c_soup = BeautifulSoup(page_candidate.text,\"html.parser\")"
   ]
  },
  {
   "cell_type": "code",
   "execution_count": 89,
   "metadata": {
    "collapsed": false
   },
   "outputs": [
    {
     "name": "stdout",
     "output_type": "stream",
     "text": [
      "9\n",
      "[<table cellpadding=\"0\" cellspacing=\"0\" id=\"table3\" width=\"80%\">\n",
      "<tr style=\"background-color:#336633;color:white;\" valign=\"top\"><th colspan=\"3\">Other Elections</th></tr>\n",
      "<tr style=\"background-color:#336633;color:white;\" valign=\"top\"><th>Declaration in</th><th>Declared Assets</th><th>Declared Cases</th></tr>\n",
      "<tr><td colspan=\"3\"><a href=\"/compare_profile.php?group_id=FmV7ueoc9J52iv3Mwa\">Click here for more details</a></td></tr></table>, <table border=\"1\" width=\"100%\">\n",
      "<tr><th>Relation Type</th><th>PAN Given</th><th>Financial Year</th><th>Total Income Shown in ITR</th></tr>\n",
      "<tr><td>self</td><td>Y</td><td>2012 - 2013</td><td><b>Rs 19,99,890</b><span style=\"color:black;font-size:60%;text-decoration:none;white-space:nowrap\"> ~ 19 Lacs+</span></td></tr><tr><td>spouse</td><td>Y</td><td>2012 - 2013</td><td><b>Rs 4,76,400</b><span style=\"color:black;font-size:60%;text-decoration:none;white-space:nowrap\"> ~ 4 Lacs+</span></td></tr><tr><td>dependent1</td><td>N</td><td>None</td><td><b>Rs 0</b><span style=\"color:black;font-size:60%;text-decoration:none;white-space:nowrap\"> ~ </span></td></tr><tr><td>dependent2</td><td>N</td><td>None</td><td><b>Rs 0</b><span style=\"color:black;font-size:60%;text-decoration:none;white-space:nowrap\"> ~ </span></td></tr><tr><td>dependent3</td><td>N</td><td>None</td><td><b>Rs 0</b><span style=\"color:black;font-size:60%;text-decoration:none;white-space:nowrap\"> ~ </span></td></tr>\n",
      "</table>, <table class=\"table1\" width=\"100%\"><tr valign=\"top\"><td>\n",
      "<h3 class=\"title blue\">Cases where charges framed</h3>\n",
      "<table border=\"1\" cellpadding=\"1\" width=\"80%\">\n",
      "<tr style=\"font-weight:bold\"><td>Serial No.</td><td>IPC Sections Applicable</td><td>Other Details / Other Acts / Sections Applicable</td></tr>\n",
      "<tr><td align=\"center\" colspan=\"4\">---------<b>No Cases</b>--------</td></tr>\n",
      "</table>\n",
      "<h3 class=\"title blue\">Cases where Cognizance taken</h3>\n",
      "<table border=\"1\" cellpadding=\"1\" width=\"80%\">\n",
      "<tr style=\"font-weight:bold\"><td>Serial No.</td><td>IPC Sections Applicable</td><td>Other Details / Other Acts / Sections Applicable</td></tr>\n",
      "<tr><td> 1</td><td>499,  500 </td><td> CASE NO.327/04, JUDICIAL MAGISTRATE FIRST CLASS THANE, F.I.R.NO.66/10, (J.M.F.C.DARYARPUR), DATED. 17 JAN. 2007\t </td></tr>\n",
      "</table>\n",
      "<h3 class=\"title blue\">Cases where convicted</h3>\n",
      "<table border=\"1\" cellpadding=\"1\" width=\"80%\">\n",
      "<tr style=\"font-weight:bold\"><td>Serial No.</td><td>IPC Sections Applicable</td><td>Other Details / Other Acts / Sections Applicable</td></tr>\n",
      "<tr><td align=\"center\" colspan=\"4\">---------<b>No Cases</b>--------</td></tr>\n",
      "</table></td><td><h3 class=\"title blue\">Brief Details of IPCs</h3> 1 charges related to Defamation (IPC Section-499)<hr>1 charges related to  defamation (IPC Section-500)<hr> </hr></hr></td></tr></table>, <table border=\"1\" cellpadding=\"1\" width=\"80%\">\n",
      "<tr style=\"font-weight:bold\"><td>Serial No.</td><td>IPC Sections Applicable</td><td>Other Details / Other Acts / Sections Applicable</td></tr>\n",
      "<tr><td align=\"center\" colspan=\"4\">---------<b>No Cases</b>--------</td></tr>\n",
      "</table>, <table border=\"1\" cellpadding=\"1\" width=\"80%\">\n",
      "<tr style=\"font-weight:bold\"><td>Serial No.</td><td>IPC Sections Applicable</td><td>Other Details / Other Acts / Sections Applicable</td></tr>\n",
      "<tr><td> 1</td><td>499,  500 </td><td> CASE NO.327/04, JUDICIAL MAGISTRATE FIRST CLASS THANE, F.I.R.NO.66/10, (J.M.F.C.DARYARPUR), DATED. 17 JAN. 2007\t </td></tr>\n",
      "</table>, <table border=\"1\" cellpadding=\"1\" width=\"80%\">\n",
      "<tr style=\"font-weight:bold\"><td>Serial No.</td><td>IPC Sections Applicable</td><td>Other Details / Other Acts / Sections Applicable</td></tr>\n",
      "<tr><td align=\"center\" colspan=\"4\">---------<b>No Cases</b>--------</td></tr>\n",
      "</table>, <table border=\"1\" cellpadding=\"1\" class=\"table1\" width=\"95%\">\n",
      "<tr><td>Sr No</td><td>Description</td><td align=\"right\">self</td><td align=\"right\">spouse</td><td align=\"right\">dependent1</td><td align=\"right\">dependent2</td><td align=\"right\">dependent3</td></tr>\n",
      "<tr valign=\"top\"><td>i</td><td>Cash</td><td align=\"right\"><span class=\"desc\">Cash</span><br>  50,000 <span style=\"color:brown;font-size:70%;text-decoration:none;white-space:nowrap\"> 50 Thou+</span> <br><br/></br></br></td><td align=\"right\"><span class=\"desc\">Cash</span><br>  45,000 <span style=\"color:brown;font-size:70%;text-decoration:none;white-space:nowrap\"> 45 Thou+</span> <br><br/></br></br></td><td align=\"right\">Nil</td><td align=\"right\">Nil</td><td align=\"right\">Nil</td><td align=\"right\"><span style=\"color:black\"><b> Rs 95,000 </b></span><span style=\"color:brown;font-size:70%;text-decoration:none;white-space:nowrap\"><br>95 Thou+</br></span></td></tr>\n",
      "<tr valign=\"top\"><td>ii</td><td>Deposits in Banks, Financial Institutions and Non-Banking Financial Companies</td><td align=\"right\"><span class=\"desc\">bank of baroda, A/C No. 0049</span><br>  1,06,146 <span style=\"color:brown;font-size:70%;text-decoration:none;white-space:nowrap\"> 1 Lacs+</span> <br><br><span class=\"desc\">C.T. Co. Op. Bank, A/C No. 30</span><br>  15,88,359 <span style=\"color:brown;font-size:70%;text-decoration:none;white-space:nowrap\"> 15 Lacs+</span> <br><br><span class=\"desc\">C.T. Co. Op. Bank, A/C No. SB 1</span><br>  19,667 <span style=\"color:brown;font-size:70%;text-decoration:none;white-space:nowrap\"> 19 Thou+</span> <br><br><span class=\"desc\">MSC Bank, A/C No. 10609/926</span><br>  11,452 <span style=\"color:brown;font-size:70%;text-decoration:none;white-space:nowrap\"> 11 Thou+</span> <br><br><span class=\"desc\">State Bank of India, Amaravati, A/C No. 31061086567</span><br>  45,03,556 <span style=\"color:brown;font-size:70%;text-decoration:none;white-space:nowrap\"> 45 Lacs+</span> <br><br><span class=\"desc\">Abhyuday Bank, A/C No. 5</span><br>  2,050 <span style=\"color:brown;font-size:70%;text-decoration:none;white-space:nowrap\"> 2 Thou+</span> <br><br><span class=\"desc\">State Bank of Delhi, A/C No. 10023831220</span><br>  87,296 <span style=\"color:brown;font-size:70%;text-decoration:none;white-space:nowrap\"> 87 Thou+</span> <br><br><span class=\"desc\">Buldhana Urban Credit Co. Op. Society, Buldhana A/C No. 135</span><br>  1,159 <span style=\"color:brown;font-size:70%;text-decoration:none;white-space:nowrap\"> 1 Thou+</span> <br><br><span class=\"desc\">State Bank of Delhi, Fixed Deposite</span><br>  14,00,000 <span style=\"color:brown;font-size:70%;text-decoration:none;white-space:nowrap\"> 14 Lacs+</span> <br><br><span class=\"desc\">C.T. Co. Po. Bank, Fixed Deposite</span><br>  6,22,687 <span style=\"color:brown;font-size:70%;text-decoration:none;white-space:nowrap\"> 6 Lacs+</span> <br><br/></br></br></br></br></br></br></br></br></br></br></br></br></br></br></br></br></br></br></br></br></br></br></br></br></br></br></br></br></br></td><td align=\"right\"><span class=\"desc\">Maharashtra Rajya Co. Ltd., Malad, A/C No 15000</span><br>  24,828 <span style=\"color:brown;font-size:70%;text-decoration:none;white-space:nowrap\"> 24 Thou+</span> <br><br><span class=\"desc\">Maharashtra Rajya Co. Bank Ltd., Mumbai, A/C No. 2804</span><br>  36,776 <span style=\"color:brown;font-size:70%;text-decoration:none;white-space:nowrap\"> 36 Thou+</span> <br><br><span class=\"desc\">Panjab National Bank, A/C No. 897</span><br>  3,405 <span style=\"color:brown;font-size:70%;text-decoration:none;white-space:nowrap\"> 3 Thou+</span> <br><br><span class=\"desc\">C.T. Co-op. Bank, A/C No. 13845</span><br>  17,211 <span style=\"color:brown;font-size:70%;text-decoration:none;white-space:nowrap\"> 17 Thou+</span> <br><br><span class=\"desc\">North Canara G.S.B. Bank, Kandivali, A/C No. 554</span><br>  18,620 <span style=\"color:brown;font-size:70%;text-decoration:none;white-space:nowrap\"> 18 Thou+</span> <br><br><span class=\"desc\">Bank of Baroda, Kandivali, A/C No. 101/17872</span><br>  92,907 <span style=\"color:brown;font-size:70%;text-decoration:none;white-space:nowrap\"> 92 Thou+</span> <br><br><span class=\"desc\">Abhyuday Bank, Kandivali, A/C No. 197</span><br>  1,101 <span style=\"color:brown;font-size:70%;text-decoration:none;white-space:nowrap\"> 1 Thou+</span> <br><br><span class=\"desc\">North Canara G.S.B. Bank, Fixed Deposite</span><br>  3,29,676 <span style=\"color:brown;font-size:70%;text-decoration:none;white-space:nowrap\"> 3 Lacs+</span> <br><br><span class=\"desc\">C.T. Co-op. Bank, Borivali, Fixed Deposite</span><br>  7,57,917 <span style=\"color:brown;font-size:70%;text-decoration:none;white-space:nowrap\"> 7 Lacs+</span> <br><br><span class=\"desc\">Abhyuday Bank, Fixed Deposite</span><br>  11,44,865 <span style=\"color:brown;font-size:70%;text-decoration:none;white-space:nowrap\"> 11 Lacs+</span> <br><br/></br></br></br></br></br></br></br></br></br></br></br></br></br></br></br></br></br></br></br></br></br></br></br></br></br></br></br></br></br></td><td align=\"right\">Nil</td><td align=\"right\">Nil</td><td align=\"right\">Nil</td><td align=\"right\"><span style=\"color:black\"><b> Rs 1,07,69,678 </b></span><span style=\"color:brown;font-size:70%;text-decoration:none;white-space:nowrap\"><br>1 Crore+</br></span></td></tr>\n",
      "<tr valign=\"top\"><td>iii</td><td>Bonds, Debentures and Shares in companies</td><td align=\"right\"><span class=\"desc\">LIC Mutual Fund</span><br>  10,000 <span style=\"color:brown;font-size:70%;text-decoration:none;white-space:nowrap\"> 10 Thou+</span> <br><br/></br></br></td><td align=\"right\"><span class=\"desc\">Unit Trust</span><br>  10,000 <span style=\"color:brown;font-size:70%;text-decoration:none;white-space:nowrap\"> 10 Thou+</span> <br><br><span class=\"desc\">Fabulous Developers Pvt. Ltd., 5010 Shares</span><br>  50,100 <span style=\"color:brown;font-size:70%;text-decoration:none;white-space:nowrap\"> 50 Thou+</span> <br><br/></br></br></br></br></br></td><td align=\"right\">Nil</td><td align=\"right\">Nil</td><td align=\"right\">Nil</td><td align=\"right\"><span style=\"color:black\"><b> Rs 70,100 </b></span><span style=\"color:brown;font-size:70%;text-decoration:none;white-space:nowrap\"><br>70 Thou+</br></span></td></tr>\n",
      "<tr valign=\"top\"><td rowspan=\"2\">iv</td><td><b>(a)</b><br> NSS, Postal Savings etc</br></td><td align=\"right\"><span class=\"desc\">NSC</span><br>  30,000 <span style=\"color:brown;font-size:70%;text-decoration:none;white-space:nowrap\"> 30 Thou+</span> <br><br><span class=\"desc\">PPF</span><br>  2,28,582 <span style=\"color:brown;font-size:70%;text-decoration:none;white-space:nowrap\"> 2 Lacs+</span> <br><br/></br></br></br></br></br></td><td align=\"right\"><span class=\"desc\">NSC</span><br>  1,30,000 <span style=\"color:brown;font-size:70%;text-decoration:none;white-space:nowrap\"> 1 Lacs+</span> <br><br><span class=\"desc\">PPF</span><br>  2,26,998 <span style=\"color:brown;font-size:70%;text-decoration:none;white-space:nowrap\"> 2 Lacs+</span> <br><br><span class=\"desc\">R.D. C.T. Co. Op. Bank</span><br>  19,740 <span style=\"color:brown;font-size:70%;text-decoration:none;white-space:nowrap\"> 19 Thou+</span> <br><br><span class=\"desc\">RD, Canara Bank</span><br>  5,000 <span style=\"color:brown;font-size:70%;text-decoration:none;white-space:nowrap\"> 5 Thou+</span> <br><br><span class=\"desc\">R.D. Abhyuday Bank</span><br>  15,000 <span style=\"color:brown;font-size:70%;text-decoration:none;white-space:nowrap\"> 15 Thou+</span> <br><br/></br></br></br></br></br></br></br></br></br></br></br></br></br></br></td><td align=\"right\">Nil</td><td align=\"right\">Nil</td><td align=\"right\">Nil</td><td align=\"right\"><span style=\"color:black\"><b> Rs 6,55,320 </b></span><span style=\"color:brown;font-size:70%;text-decoration:none;white-space:nowrap\"><br>6 Lacs+</br></span></td></tr>\n",
      "<tr valign=\"top\"><td><b>(b)</b><br>LIC or other insurance Policies <!--<br><span style='font-size:80%;color:yellow;background-color:red'>**Not counted in total assets</span> --></br></td><td align=\"right\">Nil</td><td align=\"right\">Nil</td><td align=\"right\">Nil</td><td align=\"right\">Nil</td><td align=\"right\">Nil</td><td align=\"right\"><span style=\"color:black\"><b> Nil </b></span><span style=\"color:brown;font-size:70%;text-decoration:none;white-space:nowrap\"><br/></span></td></tr>\n",
      "<tr valign=\"top\"><td>v</td><td>Personal loans/advance given </td><td align=\"right\">Nil</td><td align=\"right\">Nil</td><td align=\"right\">Nil</td><td align=\"right\">Nil</td><td align=\"right\">Nil</td><td align=\"right\"><span style=\"color:black\"><b> Nil </b></span><span style=\"color:brown;font-size:70%;text-decoration:none;white-space:nowrap\"><br/></span></td></tr>\n",
      "<tr valign=\"top\"><td>vi</td><td>Motor Vehicles (details of make, etc.)</td><td align=\"right\"><span class=\"desc\">Toyota Innova, MH 28 V 5747</span><br>  9,00,000 <span style=\"color:brown;font-size:70%;text-decoration:none;white-space:nowrap\"> 9 Lacs+</span> <br><br/></br></br></td><td align=\"right\">Nil</td><td align=\"right\">Nil</td><td align=\"right\">Nil</td><td align=\"right\">Nil</td><td align=\"right\"><span style=\"color:black\"><b> Rs 9,00,000 </b></span><span style=\"color:brown;font-size:70%;text-decoration:none;white-space:nowrap\"><br>9 Lacs+</br></span></td></tr>\n",
      "<tr valign=\"top\"><td>vii</td><td>Jewellery (give details weight value)</td><td align=\"right\">Nil</td><td align=\"right\"><span class=\"desc\">Gold 550 gm</span><br>  16,50,000 <span style=\"color:brown;font-size:70%;text-decoration:none;white-space:nowrap\"> 16 Lacs+</span> <br><br/></br></br></td><td align=\"right\">Nil</td><td align=\"right\">Nil</td><td align=\"right\">Nil</td><td align=\"right\"><span style=\"color:black\"><b> Rs 16,50,000 </b></span><span style=\"color:brown;font-size:70%;text-decoration:none;white-space:nowrap\"><br>16 Lacs+</br></span></td></tr>\n",
      "<tr valign=\"top\"><td>viii</td><td>Other assets, such as values of claims / interests</td><td align=\"right\">Nil</td><td align=\"right\">Nil</td><td align=\"right\">Nil</td><td align=\"right\">Nil</td><td align=\"right\">Nil</td><td align=\"right\"><span style=\"color:black\"><b> Nil </b></span><span style=\"color:brown;font-size:70%;text-decoration:none;white-space:nowrap\"><br/></span></td></tr>\n",
      "<tr valign=\"top\"><td colspan=\"2\">Gross Total Value (as per Affidavit)</td> <td align=\"right\"><a name=\"movabletotal\"></a> 95,60,754 <span style=\"color:brown;font-size:70%;text-decoration:none;white-space:nowrap\"> 95 Lacs+</span></td><td align=\"right\"><a name=\"movabletotal\"></a> 45,79,144 <span style=\"color:brown;font-size:70%;text-decoration:none;white-space:nowrap\"> 45 Lacs+</span></td><td align=\"right\"><a name=\"movabletotal\"></a> Nil</td><td align=\"right\"><a name=\"movabletotal\"></a> Nil</td><td align=\"right\"><a name=\"movabletotal\"></a> Nil</td><td align=\"right\"><span style=\"color:green\"><b> Rs 1,41,39,898 </b></span><span style=\"color:brown;font-size:70%;text-decoration:none;white-space:nowrap\"><br>1 Crore+</br></span></td> </tr>\n",
      "<tr valign=\"top\"><td colspan=\"2\">Totals (Calculated as Sum of Values)</td> <td align=\"right\"><span style=\"color:blue\"><b> Rs 95,60,954 </b></span><span style=\"color:brown;font-size:70%;text-decoration:none;white-space:nowrap\"><br>95 Lacs+</br></span></td><td align=\"right\"><span style=\"color:blue\"><b> Rs 45,79,144 </b></span><span style=\"color:brown;font-size:70%;text-decoration:none;white-space:nowrap\"><br>45 Lacs+</br></span></td><td align=\"right\"><span style=\"color:blue\"><b> Nil </b></span><span style=\"color:brown;font-size:70%;text-decoration:none;white-space:nowrap\"><br/></span></td><td align=\"right\"><span style=\"color:blue\"><b> Nil </b></span><span style=\"color:brown;font-size:70%;text-decoration:none;white-space:nowrap\"><br/></span></td><td align=\"right\"><span style=\"color:blue\"><b> Nil </b></span><span style=\"color:brown;font-size:70%;text-decoration:none;white-space:nowrap\"><br/></span></td> <td align=\"right\"><span style=\"color:purple\"><b> Rs 1,41,40,098 </b></span><span style=\"color:brown;font-size:70%;text-decoration:none;white-space:nowrap\"><br>1 Crore+</br></span></td></tr>\n",
      "</table>, <table border=\"1\" cellpadding=\"1\" class=\"table1\" width=\"95%\">\n",
      "<tr><td>Sr No</td><td>Description</td><td align=\"right\">self</td><td align=\"right\">spouse</td><td align=\"right\">dependent1</td><td align=\"right\">dependent2</td><td align=\"right\">dependent3</td></tr>\n",
      "<tr valign=\"top\"><td>i</td><td>Agricultural Land</td><td align=\"right\"><span class=\"desc\">Shiranbe, Tal. Koregaon, Dist. Satara</span><br>\n",
      "<span class=\"desc\">Total Area</span> <span class=\"immov\">1 hector 04 are</span> <br>\n",
      "<span class=\"desc\">Whether Inherited </span><span class=\"immov\">N</span> <br>\n",
      "<span class=\"desc\">Purchase Date </span><span class=\"immov\">0000-00-00</span> <br>\n",
      "<span class=\"desc\">Purchase Cost </span><span class=\"immov\">0.00</span> <br>\n",
      "<span class=\"desc\">Development Cost</span> <span class=\"immov\">0.00</span><br> 2,05,000 <span style=\"color:brown;font-size:70%;text-decoration:none;white-space:nowrap\"> 2 Lacs+</span> <br><br/></br></br></br></br></br></br></br></td><td align=\"right\">Nil</td><td align=\"right\">Nil</td><td align=\"right\">Nil</td><td align=\"right\">Nil</td><td align=\"right\"><span style=\"color:black\"><b> Rs 2,05,000 </b></span><span style=\"color:brown;font-size:70%;text-decoration:none;white-space:nowrap\"><br>2 Lacs+</br></span></td></tr>\n",
      "<tr valign=\"top\"><td>ii</td><td>Non Agricultural Land</td><td align=\"right\">Nil</td><td align=\"right\">Nil</td><td align=\"right\">Nil</td><td align=\"right\">Nil</td><td align=\"right\">Nil</td><td align=\"right\"><span style=\"color:black\"><b> Nil </b></span><span style=\"color:brown;font-size:70%;text-decoration:none;white-space:nowrap\"><br/></span></td></tr>\n",
      "<tr valign=\"top\"><td>iii</td><td>Commercial Buildings</td><td align=\"right\"><span class=\"desc\">Shop No. 4, Hastagiri Housing Society Sankul, Ashok Nagar, Kandivali East, Mumbai</span><br>\n",
      "<span class=\"desc\">Total Area</span> <span class=\"immov\">650 sq. ft.</span> <br>\n",
      "<span class=\"desc\">Whether Inherited </span><span class=\"immov\">N</span> <br>\n",
      "<span class=\"desc\">Purchase Date </span><span class=\"immov\">0000-00-00</span> <br>\n",
      "<span class=\"desc\">Purchase Cost </span><span class=\"immov\">0.00</span> <br>\n",
      "<span class=\"desc\">Development Cost</span> <span class=\"immov\">0.00</span><br> 10,00,000 <span style=\"color:brown;font-size:70%;text-decoration:none;white-space:nowrap\"> 10 Lacs+</span> <br><br><span class=\"desc\">Yelgaon Dist. Buldhana, MIDC Area 1350 sq. meter Building, Abhijit Plastic Factory All Machinary</span><br>\n",
      "<span class=\"desc\">Total Area</span> <span class=\"immov\">1350 sq.m.</span> <br>\n",
      "<span class=\"desc\">Whether Inherited </span><span class=\"immov\">N</span> <br>\n",
      "<span class=\"desc\">Purchase Date </span><span class=\"immov\">0000-00-00</span> <br>\n",
      "<span class=\"desc\">Purchase Cost </span><span class=\"immov\">0.00</span> <br>\n",
      "<span class=\"desc\">Development Cost</span> <span class=\"immov\">0.00</span><br> 44,25,849 <span style=\"color:brown;font-size:70%;text-decoration:none;white-space:nowrap\"> 44 Lacs+</span> <br><br/></br></br></br></br></br></br></br></br></br></br></br></br></br></br></br></td><td align=\"right\">Nil</td><td align=\"right\">Nil</td><td align=\"right\">Nil</td><td align=\"right\">Nil</td><td align=\"right\"><span style=\"color:black\"><b> Rs 54,25,849 </b></span><span style=\"color:brown;font-size:70%;text-decoration:none;white-space:nowrap\"><br>54 Lacs+</br></span></td></tr>\n",
      "<tr valign=\"top\"><td>iv</td><td>Residential Buildings</td><td align=\"right\"><span class=\"desc\">Vidarbh Premier Housing Society, Room No. 2</span><br>\n",
      "<span class=\"desc\">Total Area</span> <span class=\"immov\"></span> <br>\n",
      "<span class=\"desc\">Built Up Area </span><span class=\"immov\"></span> <br>\n",
      "<span class=\"desc\">Whether Inherited </span><span class=\"immov\">N</span> <br>\n",
      "<span class=\"desc\">Purchase Date </span><span class=\"immov\">0000-00-00</span> <br>\n",
      "<span class=\"desc\">Purchase Cost </span><span class=\"immov\">0.00</span> <br>\n",
      "<span class=\"desc\">Development Cost</span> <span class=\"immov\">0.00</span><br> 9,72,200 <span style=\"color:brown;font-size:70%;text-decoration:none;white-space:nowrap\"> 9 Lacs+</span> <br><br><span class=\"desc\">Shiranbe, Tal. Koregaon, Dist. Satara, Room No. 300</span><br>\n",
      "<span class=\"desc\">Total Area</span> <span class=\"immov\"></span> <br>\n",
      "<span class=\"desc\">Built Up Area </span><span class=\"immov\"></span> <br>\n",
      "<span class=\"desc\">Whether Inherited </span><span class=\"immov\">N</span> <br>\n",
      "<span class=\"desc\">Purchase Date </span><span class=\"immov\">0000-00-00</span> <br>\n",
      "<span class=\"desc\">Purchase Cost </span><span class=\"immov\">0.00</span> <br>\n",
      "<span class=\"desc\">Development Cost</span> <span class=\"immov\">0.00</span><br> 40,000 <span style=\"color:brown;font-size:70%;text-decoration:none;white-space:nowrap\"> 40 Thou+</span> <br><br><span class=\"desc\">Navsari Vishnunagar Amaravati</span><br>\n",
      "<span class=\"desc\">Total Area</span> <span class=\"immov\">3200 sq. ft.</span> <br>\n",
      "<span class=\"desc\">Built Up Area </span><span class=\"immov\"></span> <br>\n",
      "<span class=\"desc\">Whether Inherited </span><span class=\"immov\">N</span> <br>\n",
      "<span class=\"desc\">Purchase Date </span><span class=\"immov\">0000-00-00</span> <br>\n",
      "<span class=\"desc\">Purchase Cost </span><span class=\"immov\">0.00</span> <br>\n",
      "<span class=\"desc\">Development Cost</span> <span class=\"immov\">0.00</span><br> 33,13,310 <span style=\"color:brown;font-size:70%;text-decoration:none;white-space:nowrap\"> 33 Lacs+</span> <br><br><span class=\"desc\">Flat No. 5, Kadamgiri Apt., Ashok Nagar, Kandivali East, Mumbai</span><br>\n",
      "<span class=\"desc\">Total Area</span> <span class=\"immov\">720 sq. ft.</span> <br>\n",
      "<span class=\"desc\">Built Up Area </span><span class=\"immov\"></span> <br>\n",
      "<span class=\"desc\">Whether Inherited </span><span class=\"immov\">N</span> <br>\n",
      "<span class=\"desc\">Purchase Date </span><span class=\"immov\">0000-00-00</span> <br>\n",
      "<span class=\"desc\">Purchase Cost </span><span class=\"immov\">0.00</span> <br>\n",
      "<span class=\"desc\">Development Cost</span> <span class=\"immov\">0.00</span><br> 15,00,000 <span style=\"color:brown;font-size:70%;text-decoration:none;white-space:nowrap\"> 15 Lacs+</span> <br><br><span class=\"desc\">Sukhada Gruhnirman Apt., Worli, Mumbai</span><br>\n",
      "<span class=\"desc\">Total Area</span> <span class=\"immov\">960 sq. ft.</span> <br>\n",
      "<span class=\"desc\">Built Up Area </span><span class=\"immov\"></span> <br>\n",
      "<span class=\"desc\">Whether Inherited </span><span class=\"immov\">N</span> <br>\n",
      "<span class=\"desc\">Purchase Date </span><span class=\"immov\">0000-00-00</span> <br>\n",
      "<span class=\"desc\">Purchase Cost </span><span class=\"immov\">0.00</span> <br>\n",
      "<span class=\"desc\">Development Cost</span> <span class=\"immov\">0.00</span><br> 60,00,000 <span style=\"color:brown;font-size:70%;text-decoration:none;white-space:nowrap\"> 60 Lacs+</span> <br><br/></br></br></br></br></br></br></br></br></br></br></br></br></br></br></br></br></br></br></br></br></br></br></br></br></br></br></br></br></br></br></br></br></br></br></br></br></br></br></br></br></br></br></br></br></td><td align=\"right\"><span class=\"desc\">78/4 Pachgani, Tal. Mahabaleshwar, Dist. Satara</span><br>\n",
      "<span class=\"desc\">Total Area</span> <span class=\"immov\">2000 sq ft</span> <br>\n",
      "<span class=\"desc\">Built Up Area </span><span class=\"immov\"></span> <br>\n",
      "<span class=\"desc\">Whether Inherited </span><span class=\"immov\">N</span> <br>\n",
      "<span class=\"desc\">Purchase Date </span><span class=\"immov\">0000-00-00</span> <br>\n",
      "<span class=\"desc\">Purchase Cost </span><span class=\"immov\">0.00</span> <br>\n",
      "<span class=\"desc\">Development Cost</span> <span class=\"immov\">0.00</span><br> 10,00,000 <span style=\"color:brown;font-size:70%;text-decoration:none;white-space:nowrap\"> 10 Lacs+</span> <br><br/></br></br></br></br></br></br></br></br></td><td align=\"right\">Nil</td><td align=\"right\">Nil</td><td align=\"right\">Nil</td><td align=\"right\"><span style=\"color:black\"><b> Rs 1,28,25,510 </b></span><span style=\"color:brown;font-size:70%;text-decoration:none;white-space:nowrap\"><br>1 Crore+</br></span></td></tr>\n",
      "<tr valign=\"top\"><td>v</td><td>Others</td><td align=\"right\">Nil</td><td align=\"right\">Nil</td><td align=\"right\">Nil</td><td align=\"right\">Nil</td><td align=\"right\">Nil</td><td align=\"right\"><span style=\"color:black\"><b> Nil </b></span><span style=\"color:brown;font-size:70%;text-decoration:none;white-space:nowrap\"><br/></span></td></tr>\n",
      "<tr valign=\"top\"><td colspan=\"2\">Total Current Market Value of (i) to (v) (as per Affidavit)</td> <td align=\"right\"><a name=\"immovabletotal\"></a> 1,74,56,359 <span style=\"color:brown;font-size:70%;text-decoration:none;white-space:nowrap\"> 1 Crore+</span></td><td align=\"right\"><a name=\"immovabletotal\"></a> 10,00,000 <span style=\"color:brown;font-size:70%;text-decoration:none;white-space:nowrap\"> 10 Lacs+</span></td><td align=\"right\"><a name=\"immovabletotal\"></a> Nil</td><td align=\"right\"><a name=\"immovabletotal\"></a> Nil</td><td align=\"right\"><a name=\"immovabletotal\"></a> Nil</td><td align=\"right\"><span style=\"color:green\"><b> Rs 1,84,56,359 </b></span><span style=\"color:brown;font-size:70%;text-decoration:none;white-space:nowrap\"><br>1 Crore+</br></span></td> </tr>\n",
      "<tr valign=\"top\"><td colspan=\"2\">Totals Calculated</td> <td align=\"right\"><span style=\"color:blue\"><b> Rs 1,74,56,359 </b></span><span style=\"color:brown;font-size:70%;text-decoration:none;white-space:nowrap\"><br>1 Crore+</br></span></td><td align=\"right\"><span style=\"color:blue\"><b> Rs 10,00,000 </b></span><span style=\"color:brown;font-size:70%;text-decoration:none;white-space:nowrap\"><br>10 Lacs+</br></span></td><td align=\"right\"><span style=\"color:blue\"><b> Nil </b></span><span style=\"color:brown;font-size:70%;text-decoration:none;white-space:nowrap\"><br/></span></td><td align=\"right\"><span style=\"color:blue\"><b> Nil </b></span><span style=\"color:brown;font-size:70%;text-decoration:none;white-space:nowrap\"><br/></span></td><td align=\"right\"><span style=\"color:blue\"><b> Nil </b></span><span style=\"color:brown;font-size:70%;text-decoration:none;white-space:nowrap\"><br/></span></td> <td align=\"right\"><span style=\"color:purple\"><b> Rs 1,84,56,359 </b></span><span style=\"color:brown;font-size:70%;text-decoration:none;white-space:nowrap\"><br>1 Crore+</br></span></td></tr>\n",
      "</table>, <table border=\"1\" cellpadding=\"1\" class=\"table1\" width=\"95%\">\n",
      "<tr><td>Sr No</td><td>Description</td><td align=\"right\">self</td><td align=\"right\">spouse</td><td align=\"right\">dependent1</td><td align=\"right\">dependent2</td><td align=\"right\">dependent3</td></tr>\n",
      "<tr valign=\"top\"><td rowspan=\"4\">i</td><td>Loans from Banks / FIs</td><td align=\"right\"><span class=\"desc\">Vidarbh Premier Housing Society, Ltd., Home Loan</span><br>  4,14,104 <span style=\"color:brown;font-size:70%;text-decoration:none;white-space:nowrap\"> 4 Lacs+</span> <br><br/></br></br></td><td align=\"right\">Nil</td><td align=\"right\">Nil</td><td align=\"right\">Nil</td><td align=\"right\">Nil</td><td align=\"right\"><span style=\"color:black\"><b> Rs 4,14,104 </b></span><span style=\"color:brown;font-size:70%;text-decoration:none;white-space:nowrap\"><br>4 Lacs+</br></span></td></tr>\n",
      "<tr valign=\"top\"><td>Loans due to Individual / Entity</td><td align=\"right\"><span class=\"desc\">Shri Abhijit Adsul</span><br>  78,000 <span style=\"color:brown;font-size:70%;text-decoration:none;white-space:nowrap\"> 78 Thou+</span> <br><br><span class=\"desc\">Anandrao &amp; Company</span><br>  8,95,000 <span style=\"color:brown;font-size:70%;text-decoration:none;white-space:nowrap\"> 8 Lacs+</span> <br><br><span class=\"desc\">Mrs. Ashwini Vyas</span><br>  2,00,000 <span style=\"color:brown;font-size:70%;text-decoration:none;white-space:nowrap\"> 2 Lacs+</span> <br><br/></br></br></br></br></br></br></br></br></td><td align=\"right\">Nil</td><td align=\"right\">Nil</td><td align=\"right\">Nil</td><td align=\"right\">Nil</td><td align=\"right\"><span style=\"color:black\"><b> Rs 11,73,000 </b></span><span style=\"color:brown;font-size:70%;text-decoration:none;white-space:nowrap\"><br>11 Lacs+</br></span></td></tr>\n",
      "<tr valign=\"top\"><td>Any other Liability</td><td align=\"right\">Nil</td><td align=\"right\">Nil</td><td align=\"right\">Nil</td><td align=\"right\">Nil</td><td align=\"right\">Nil</td><td align=\"right\"><span style=\"color:black\"><b> Nil </b></span><span style=\"color:brown;font-size:70%;text-decoration:none;white-space:nowrap\"><br/></span></td></tr>\n",
      "<tr valign=\"top\"><td>Grand Total of Liabilities (as per affidavit)</td><td align=\"right\"><a name=\"liabilitiestotal\"></a> 15,87,104 <span style=\"color:brown;font-size:70%;text-decoration:none;white-space:nowrap\"> 15 Lacs+</span></td><td align=\"right\"><a name=\"liabilitiestotal\"></a> Nil</td><td align=\"right\"><a name=\"liabilitiestotal\"></a> Nil</td><td align=\"right\"><a name=\"liabilitiestotal\"></a> Nil</td><td align=\"right\"><a name=\"liabilitiestotal\"></a> Nil</td><td align=\"right\"><span style=\"color:green\"><b> Rs 15,87,104 </b></span><span style=\"color:brown;font-size:70%;text-decoration:none;white-space:nowrap\"><br>15 Lacs+</br></span></td></tr>\n",
      "<tr valign=\"top\"><td rowspan=\"11\">ii</td><td>Dues to departments dealing with government accommodation</td><td align=\"right\">Nil</td><td align=\"right\">Nil</td><td align=\"right\">Nil</td><td align=\"right\">Nil</td><td align=\"right\">Nil</td><td align=\"right\"><span style=\"color:black\"><b> Nil </b></span><span style=\"color:brown;font-size:70%;text-decoration:none;white-space:nowrap\"><br/></span></td></tr>\n",
      "<tr valign=\"top\"><td>Dues to departments dealing with supply of water</td><td align=\"right\">Nil</td><td align=\"right\">Nil</td><td align=\"right\">Nil</td><td align=\"right\">Nil</td><td align=\"right\">Nil</td><td align=\"right\"><span style=\"color:black\"><b> Nil </b></span><span style=\"color:brown;font-size:70%;text-decoration:none;white-space:nowrap\"><br/></span></td></tr>\n",
      "<tr valign=\"top\"><td>Dues to departments dealing with supply of electricity</td><td align=\"right\">Nil</td><td align=\"right\">Nil</td><td align=\"right\">Nil</td><td align=\"right\">Nil</td><td align=\"right\">Nil</td><td align=\"right\"><span style=\"color:black\"><b> Nil </b></span><span style=\"color:brown;font-size:70%;text-decoration:none;white-space:nowrap\"><br/></span></td></tr>\n",
      "<tr valign=\"top\"><td>Dues to departments dealing with telephones</td><td align=\"right\">Nil</td><td align=\"right\">Nil</td><td align=\"right\">Nil</td><td align=\"right\">Nil</td><td align=\"right\">Nil</td><td align=\"right\"><span style=\"color:black\"><b> Nil </b></span><span style=\"color:brown;font-size:70%;text-decoration:none;white-space:nowrap\"><br/></span></td></tr>\n",
      "<tr valign=\"top\"><td>Dues to departments dealing with supply of transport</td><td align=\"right\">Nil</td><td align=\"right\">Nil</td><td align=\"right\">Nil</td><td align=\"right\">Nil</td><td align=\"right\">Nil</td><td align=\"right\"><span style=\"color:black\"><b> Nil </b></span><span style=\"color:brown;font-size:70%;text-decoration:none;white-space:nowrap\"><br/></span></td></tr>\n",
      "<tr valign=\"top\"><td>Income Tax Dues</td><td align=\"right\">Nil</td><td align=\"right\">Nil</td><td align=\"right\">Nil</td><td align=\"right\">Nil</td><td align=\"right\">Nil</td><td align=\"right\"><span style=\"color:black\"><b> Nil </b></span><span style=\"color:brown;font-size:70%;text-decoration:none;white-space:nowrap\"><br/></span></td></tr>\n",
      "<tr valign=\"top\"><td>Wealth Tax Dues</td><td align=\"right\">Nil</td><td align=\"right\">Nil</td><td align=\"right\">Nil</td><td align=\"right\">Nil</td><td align=\"right\">Nil</td><td align=\"right\"><span style=\"color:black\"><b> Nil </b></span><span style=\"color:brown;font-size:70%;text-decoration:none;white-space:nowrap\"><br/></span></td></tr>\n",
      "<tr valign=\"top\"><td>Service Tax Dues</td><td align=\"right\">Nil</td><td align=\"right\">Nil</td><td align=\"right\">Nil</td><td align=\"right\">Nil</td><td align=\"right\">Nil</td><td align=\"right\"><span style=\"color:black\"><b> Nil </b></span><span style=\"color:brown;font-size:70%;text-decoration:none;white-space:nowrap\"><br/></span></td></tr>\n",
      "<tr valign=\"top\"><td>Property Tax Dues</td><td align=\"right\">Nil</td><td align=\"right\">Nil</td><td align=\"right\">Nil</td><td align=\"right\">Nil</td><td align=\"right\">Nil</td><td align=\"right\"><span style=\"color:black\"><b> Nil </b></span><span style=\"color:brown;font-size:70%;text-decoration:none;white-space:nowrap\"><br/></span></td></tr>\n",
      "<tr valign=\"top\"><td>Sales Tax Dues</td><td align=\"right\">Nil</td><td align=\"right\">Nil</td><td align=\"right\">Nil</td><td align=\"right\">Nil</td><td align=\"right\">Nil</td><td align=\"right\"><span style=\"color:black\"><b> Nil </b></span><span style=\"color:brown;font-size:70%;text-decoration:none;white-space:nowrap\"><br/></span></td></tr>\n",
      "<tr valign=\"top\"><td>Any Other Dues</td><td align=\"right\">Nil</td><td align=\"right\">Nil</td><td align=\"right\">Nil</td><td align=\"right\">Nil</td><td align=\"right\">Nil</td><td align=\"right\"><span style=\"color:black\"><b> Nil </b></span><span style=\"color:brown;font-size:70%;text-decoration:none;white-space:nowrap\"><br/></span></td></tr>\n",
      "<tr valign=\"top\"><td>iii</td><td>Grand Total of all Govt Dues (as per affidavit)</td><td align=\"right\"><a name=\"duestotal\"></a> Nil</td><td align=\"right\"><a name=\"duestotal\"></a> Nil</td><td align=\"right\"><a name=\"duestotal\"></a> Nil</td><td align=\"right\"><a name=\"duestotal\"></a> Nil</td><td align=\"right\"><a name=\"duestotal\"></a> Nil</td><td align=\"right\"><span style=\"color:green\"><b> Nil </b></span><span style=\"color:brown;font-size:70%;text-decoration:none;white-space:nowrap\"><br/></span></td></tr>\n",
      "<tr valign=\"top\"><td rowspan=\"2\">iv</td><td>Whether any other liabilities are in dispute, if so, mention the amount involved and the authority before which it is pending</td><td align=\"right\">Nil</td><td align=\"right\">Nil</td><td align=\"right\">Nil</td><td align=\"right\">Nil</td><td align=\"right\">Nil</td><td align=\"right\"><span style=\"color:black\"><b> Nil </b></span><span style=\"color:brown;font-size:70%;text-decoration:none;white-space:nowrap\"><br/></span></td></tr>\n",
      "<tr valign=\"top\"><td>Totals (Calculated as Sum of Values)</td> <td align=\"right\"><span style=\"color:blue\"><b> Rs 15,87,104 </b></span><span style=\"color:brown;font-size:70%;text-decoration:none;white-space:nowrap\"><br>15 Lacs+</br></span></td><td align=\"right\"><span style=\"color:blue\"><b> Nil </b></span><span style=\"color:brown;font-size:70%;text-decoration:none;white-space:nowrap\"><br/></span></td><td align=\"right\"><span style=\"color:blue\"><b> Nil </b></span><span style=\"color:brown;font-size:70%;text-decoration:none;white-space:nowrap\"><br/></span></td><td align=\"right\"><span style=\"color:blue\"><b> Nil </b></span><span style=\"color:brown;font-size:70%;text-decoration:none;white-space:nowrap\"><br/></span></td><td align=\"right\"><span style=\"color:blue\"><b> Nil </b></span><span style=\"color:brown;font-size:70%;text-decoration:none;white-space:nowrap\"><br/></span></td> <td align=\"right\"><span style=\"color:purple\"><b> Rs 15,87,104 </b></span><span style=\"color:brown;font-size:70%;text-decoration:none;white-space:nowrap\"><br>15 Lacs+</br></span></td></tr>\n",
      "</table>]\n"
     ]
    }
   ],
   "source": [
    "#### Personal info #########\n",
    "\n",
    "personal = c_soup.findAll(attrs={\"class\": \"grid_3 alpha\"})[0]\n",
    "full_name = personal.find(\"h2\").get_text()\n",
    "district1 = personal.find(\"h5\").get_text()\n",
    "grid2 = personal.findAll(attrs={\"class\":\"grid_2 alpha\"})\n",
    "party_full = grid2[0].get_text()\n",
    "age = int(grid2[2].get_text().split(\":\")[1])\n",
    "address = grid2[3].get_text().split(\":\")[1] # Careful this one changes\n",
    "self_profession = personal.find(\"p\").get_text().split('\\n')[0].split(\":\")[1]\n",
    "spouse_profession = personal.find(\"p\").get_text().split('\\n')[1].split(\":\")[1]\n",
    "#print profession\n",
    "#print spouse_profession\n",
    "#print address\n",
    "#print district1, party_full, age\n",
    "\n",
    "########## Assets  & Criminality ###########\n",
    "all_tables = c_soup.findAll(\"table\")\n",
    "print len(all_tables)\n",
    "table_inc = all_tables[0]\n",
    "table_crim = all_tables[1]\n",
    "table_assets1 = all_tables[2]\n",
    "table_assets2 = all_tables[3]\n",
    "table_liab = all_tables[4]\n",
    "#print table_inc\n",
    "print all_tables\n"
   ]
  },
  {
   "cell_type": "code",
   "execution_count": null,
   "metadata": {
    "collapsed": true
   },
   "outputs": [],
   "source": []
  }
 ],
 "metadata": {
  "kernelspec": {
   "display_name": "Python 2",
   "language": "python",
   "name": "python2"
  },
  "language_info": {
   "codemirror_mode": {
    "name": "ipython",
    "version": 2
   },
   "file_extension": ".py",
   "mimetype": "text/x-python",
   "name": "python",
   "nbconvert_exporter": "python",
   "pygments_lexer": "ipython2",
   "version": "2.7.10"
  }
 },
 "nbformat": 4,
 "nbformat_minor": 0
}
