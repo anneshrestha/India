{
 "cells": [
  {
   "cell_type": "code",
   "execution_count": 10,
   "metadata": {
    "collapsed": true
   },
   "outputs": [],
   "source": [
    "from pyquery import PyQuery as pq\n",
    "import urllib2\n",
    "import requests\n",
    "import pandas as pd\n",
    "import re\n",
    "import time\n",
    "import numpy as np\n",
    "import json\n"
   ]
  },
  {
   "cell_type": "markdown",
   "metadata": {},
   "source": [
    "Define URLs:"
   ]
  },
  {
   "cell_type": "code",
   "execution_count": 137,
   "metadata": {
    "collapsed": true
   },
   "outputs": [],
   "source": [
    "ls_2014 = \"http://myneta.info/ls2014/index.php?action=show_winners&sort=default\"\n",
    "ls_2009 = \"http://myneta.info/ls2009/index.php?action=show_winners&sort=default\"\n",
    "ls_2004 = \"http://myneta.info/loksabha2004/index.php?action=show_winners&sort=default\""
   ]
  },
  {
   "cell_type": "markdown",
   "metadata": {},
   "source": [
    "Define function to download and create dataframe"
   ]
  },
  {
   "cell_type": "code",
   "execution_count": 138,
   "metadata": {
    "collapsed": false
   },
   "outputs": [],
   "source": [
    "def process_link(link, year):\n",
    "    \n",
    "    html = requests.get(link)\n",
    "    doc = pq(html.content)\n",
    "    trs = doc('table').eq(2).children('tr')\n",
    "\n",
    "    datalist=[]\n",
    "\n",
    "    for tr in trs:\n",
    "        winner_dict = {'year':year}\n",
    "        for i,td in enumerate(tr.findall('td')):\n",
    "            if i == 0:\n",
    "                winner_dict['idnum'] = td.text\n",
    "            if i == 1:\n",
    "                winner_dict['name'] = td.findall('a')[1].text\n",
    "            if i == 2:\n",
    "                winner_dict['constituency'] = td.text\n",
    "            if i == 3:\n",
    "                winner_dict['party'] = td.text\n",
    "            if i == 4:\n",
    "                winner_dict['crim_cases'] = td.text\n",
    "                if td.text == None:\n",
    "                    winner_dict['crim_cases'] = td.find('span').text\n",
    "            if i == 5:\n",
    "                winner_dict['education'] = td.text\n",
    "            if i == 6:\n",
    "                winner_dict['assets'] =  td.text.replace(',','').replace('Rs','').lstrip()\n",
    "            if i == 7:\n",
    "                winner_dict['liabilities'] =  td.text.replace(',','').replace('Rs','').lstrip()\n",
    "\n",
    "        datalist.append(winner_dict)\n",
    "\n",
    "    return pd.DataFrame(datalist)\n",
    "    "
   ]
  },
  {
   "cell_type": "code",
   "execution_count": 143,
   "metadata": {
    "collapsed": false
   },
   "outputs": [],
   "source": [
    "df_14 = process_link(ls_2014, 2014)\n",
    "df_09 = process_link(ls_2009, 2009)\n",
    "df_04 = process_link(ls_2004, 2004)\n",
    "df_master = pd.concat([df_14,df_09,df_04])\n",
    "df_master.to_csv('loksabha_win.csv')"
   ]
  },
  {
   "cell_type": "code",
   "execution_count": null,
   "metadata": {
    "collapsed": true
   },
   "outputs": [],
   "source": []
  }
 ],
 "metadata": {
  "kernelspec": {
   "display_name": "Python 2",
   "language": "python",
   "name": "python2"
  },
  "language_info": {
   "codemirror_mode": {
    "name": "ipython",
    "version": 2
   },
   "file_extension": ".py",
   "mimetype": "text/x-python",
   "name": "python",
   "nbconvert_exporter": "python",
   "pygments_lexer": "ipython2",
   "version": "2.7.10"
  }
 },
 "nbformat": 4,
 "nbformat_minor": 0
}
