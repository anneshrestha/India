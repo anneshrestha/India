{
 "cells": [
  {
   "cell_type": "code",
   "execution_count": 1,
   "metadata": {
    "collapsed": true
   },
   "outputs": [],
   "source": [
    "from bs4 import BeautifulSoup\n",
    "import urllib2\n",
    "import requests\n",
    "import pandas as pd\n",
    "import re\n",
    "import time\n",
    "import numpy as np\n",
    "import json"
   ]
  },
  {
   "cell_type": "code",
   "execution_count": 2,
   "metadata": {
    "collapsed": false
   },
   "outputs": [],
   "source": [
    "all_cand = \"http://myneta.info/ls2014/index.php?action=summary&subAction=candidates_analyzed&sort=candidate#summary\"\n",
    "winners_crim = \"http://myneta.info/ls2014/index.php?action=summary&subAction=winner_crime&sort=candidate#summary\"\n",
    "source=requests.get(winners_crim)"
   ]
  },
  {
   "cell_type": "code",
   "execution_count": 3,
   "metadata": {
    "collapsed": false
   },
   "outputs": [],
   "source": [
    "tree= BeautifulSoup(source.text,\"html.parser\")"
   ]
  },
  {
   "cell_type": "code",
   "execution_count": 4,
   "metadata": {
    "collapsed": false
   },
   "outputs": [
    {
     "data": {
      "text/plain": [
       "22"
      ]
     },
     "execution_count": 4,
     "metadata": {},
     "output_type": "execute_result"
    }
   ],
   "source": [
    "len(tree)"
   ]
  },
  {
   "cell_type": "code",
   "execution_count": 5,
   "metadata": {
    "collapsed": false
   },
   "outputs": [
    {
     "data": {
      "text/plain": [
       "<title>Winners with declared criminal cases:Loksabha 2014 Election</title>"
      ]
     },
     "execution_count": 5,
     "metadata": {},
     "output_type": "execute_result"
    }
   ],
   "source": [
    "tree.title"
   ]
  },
  {
   "cell_type": "code",
   "execution_count": 6,
   "metadata": {
    "collapsed": false
   },
   "outputs": [],
   "source": [
    "all_links = tree.find_all('a')"
   ]
  },
  {
   "cell_type": "code",
   "execution_count": 7,
   "metadata": {
    "collapsed": false
   },
   "outputs": [
    {
     "name": "stdout",
     "output_type": "stream",
     "text": [
      "[<tr><td>11</td><td><a href=\"candidate.php?candidate_id=6995\">Anbumani Ramadoss</a><b></b></td><td>DHARMAPURI</td>\n",
      "<td>PMK</td><td align=\"center\" style=\"\"><span style=\"color:red;font-weight:bold;font-size:150%\">8</span></td><td>Graduate Professional</td>\n",
      "<td align=\"right\">Rs 31,43,78,451<br><span style=\"color:black;font-size:70%;text-decoration:none;white-space:nowrap\"> ~ 31 Crore+</span></br></td><td align=\"right\">Rs 4,19,41,065<br><span style=\"color:black;font-size:70%;text-decoration:none;white-space:nowrap\"> ~ 4 Crore+</span> </br></td></tr>, <tr><td>12</td><td><a href=\"candidate.php?candidate_id=3373\">Anil Shirole</a><b></b></td><td>PUNE</td>\n",
      "<td>BJP</td><td align=\"center\" style=\"\"><span style=\"color:red;font-weight:bold;font-size:150%\">2</span></td><td>Graduate</td>\n",
      "<td align=\"right\">Rs 22,76,15,279<br><span style=\"color:black;font-size:70%;text-decoration:none;white-space:nowrap\"> ~ 22 Crore+</span></br></td><td align=\"right\">Rs 47,81,007<br><span style=\"color:black;font-size:70%;text-decoration:none;white-space:nowrap\"> ~ 47 Lacs+</span> </br></td></tr>, <tr><td>13</td><td><a href=\"candidate.php?candidate_id=9708\">Anupriya Singh Patel</a><b></b></td><td>MIRZAPUR</td>\n",
      "<td>Apna Dal</td><td align=\"center\" style=\"\"><span style=\"color:red;font-weight:bold;font-size:150%\">2</span></td><td>Post Graduate</td>\n",
      "<td align=\"right\">Rs 2,68,58,156<br><span style=\"color:black;font-size:70%;text-decoration:none;white-space:nowrap\"> ~ 2 Crore+</span></br></td><td align=\"right\">Rs 18,05,603<br><span style=\"color:black;font-size:70%;text-decoration:none;white-space:nowrap\"> ~ 18 Lacs+</span> </br></td></tr>]\n"
     ]
    }
   ],
   "source": [
    "table_pol = tree.findAll('table')[2]\n",
    "rows = table_pol.findAll(\"tr\")[2:]\n",
    "print rows[10:13]"
   ]
  },
  {
   "cell_type": "code",
   "execution_count": 8,
   "metadata": {
    "collapsed": false
   },
   "outputs": [],
   "source": [
    "# We build one dictionary per candidate #\n",
    "# We give each candidates to idenfiers: its order in the list and its url address\n",
    "\n",
    "def id2(r):\n",
    "    url_string = str(r.find(\"a\").get(\"href\"))\n",
    "    id2 = int(re.search(r'\\d+', url_string).group())\n",
    "    return id2\n",
    "\n",
    "def c_link(r):\n",
    "    return r.find(\"a\").get(\"href\")\n",
    "def name(r):\n",
    "    return r.find(\"a\").get_text()\n",
    "def cols(r):\n",
    "    return r.findAll(\"td\")\n",
    "def assets(r):\n",
    "    col = cols(r)\n",
    "    ass1 = col[6].get_text().split(\"~\")[0].encode('ascii', 'ignore').replace(\"Rs\",\"\").replace(\",\",\"\")\n",
    "    if ass1 == \"Nil\":\n",
    "        ass2 = 0\n",
    "    else:\n",
    "        ass2=int(ass1)\n",
    "    return ass2\n",
    "\n",
    "def liab(r):\n",
    "    col = cols(r)\n",
    "    liab1 = col[7].get_text().split(\"~\")[0].encode('ascii', 'ignore').replace(\"Rs\",\"\").replace(\",\",\"\")\n",
    "    if liab1 == \"Nil\":\n",
    "        liab2 = 0\n",
    "    else:\n",
    "        liab2 = int(liab1)\n",
    "    return liab2\n",
    "\n",
    "info_candidate = lambda r: [int(cols(r)[0].get_text()),id2(r), r.find(\"a\").get(\"href\"),r.find(\"a\").get_text(),\n",
    "                            cols(r)[2].get_text(),cols(r)[3].get_text(),cols(r)[5].get_text(),\n",
    "                            int(cols(r)[4].get_text()),assets(r), liab(r)]\n",
    "\n",
    "title = ['id','id2','url','name','district','party','education','nr_crime','assets','liabilities']\n",
    "dict_candidates = [dict(zip(title,info_candidate(r))) for r in rows]"
   ]
  },
  {
   "cell_type": "code",
   "execution_count": 9,
   "metadata": {
    "collapsed": false
   },
   "outputs": [
    {
     "data": {
      "text/plain": [
       "[{'assets': 140831576,\n",
       "  'district': u'MAHBUBNAGAR',\n",
       "  'education': u'Graduate',\n",
       "  'id': 1,\n",
       "  'id2': 4536,\n",
       "  'liabilities': 1386969,\n",
       "  'name': u'A P Jithender Reddy',\n",
       "  'nr_crime': 4,\n",
       "  'party': u'TRS',\n",
       "  'url': u'candidate.php?candidate_id=4536'},\n",
       " {'assets': 17791149,\n",
       "  'district': u'ATTINGAL',\n",
       "  'education': u'Doctorate',\n",
       "  'id': 2,\n",
       "  'id2': 340,\n",
       "  'liabilities': 1421392,\n",
       "  'name': u'A Sampath',\n",
       "  'nr_crime': 1,\n",
       "  'party': u'CPI(M)',\n",
       "  'url': u'candidate.php?candidate_id=340'},\n",
       " {'assets': 15765250,\n",
       "  'district': u'CUDDALORE',\n",
       "  'education': u'Graduate Professional',\n",
       "  'id': 3,\n",
       "  'id2': 3955,\n",
       "  'liabilities': 0,\n",
       "  'name': u'A.Arunmozhithevan',\n",
       "  'nr_crime': 9,\n",
       "  'party': u'AIADMK',\n",
       "  'url': u'candidate.php?candidate_id=3955'},\n",
       " {'assets': 253880475,\n",
       "  'district': u'SHIRUR',\n",
       "  'education': u'Others',\n",
       "  'id': 4,\n",
       "  'id2': 3391,\n",
       "  'liabilities': 61810866,\n",
       "  'name': u'Adhalrao Shivaji Dattatrey',\n",
       "  'nr_crime': 10,\n",
       "  'party': u'SHS',\n",
       "  'url': u'candidate.php?candidate_id=3391'},\n",
       " {'assets': 81465854,\n",
       "  'district': u'BAHARAMPUR',\n",
       "  'education': u'10th Pass',\n",
       "  'id': 5,\n",
       "  'id2': 9306,\n",
       "  'liabilities': 0,\n",
       "  'name': u'Adhir Ranjan Chowdhury',\n",
       "  'nr_crime': 16,\n",
       "  'party': u'INC',\n",
       "  'url': u'candidate.php?candidate_id=9306'}]"
      ]
     },
     "execution_count": 9,
     "metadata": {},
     "output_type": "execute_result"
    }
   ],
   "source": [
    "len(dict_candidates)\n",
    "dict_candidates[0:5]"
   ]
  },
  {
   "cell_type": "code",
   "execution_count": 10,
   "metadata": {
    "collapsed": false
   },
   "outputs": [
    {
     "data": {
      "text/html": [
       "<div>\n",
       "<table border=\"1\" class=\"dataframe\">\n",
       "  <thead>\n",
       "    <tr style=\"text-align: right;\">\n",
       "      <th></th>\n",
       "      <th>id2</th>\n",
       "      <th>name</th>\n",
       "      <th>district</th>\n",
       "      <th>party</th>\n",
       "      <th>education</th>\n",
       "      <th>assets</th>\n",
       "      <th>liabilities</th>\n",
       "      <th>nr_crime</th>\n",
       "      <th>url</th>\n",
       "    </tr>\n",
       "  </thead>\n",
       "  <tbody>\n",
       "    <tr>\n",
       "      <th>59</th>\n",
       "      <td>9455</td>\n",
       "      <td>Gokaraju Ganga Raju</td>\n",
       "      <td>NARSAPURAM</td>\n",
       "      <td>BJP</td>\n",
       "      <td>Graduate</td>\n",
       "      <td>2883567122</td>\n",
       "      <td>168501286</td>\n",
       "      <td>1</td>\n",
       "      <td>candidate.php?candidate_id=9455</td>\n",
       "    </tr>\n",
       "    <tr>\n",
       "      <th>30</th>\n",
       "      <td>8202</td>\n",
       "      <td>Butta Renuka</td>\n",
       "      <td>KURNOOL</td>\n",
       "      <td>Yuvajana Sramika Rythu Congress Party</td>\n",
       "      <td>10th Pass</td>\n",
       "      <td>2426240513</td>\n",
       "      <td>312279927</td>\n",
       "      <td>1</td>\n",
       "      <td>candidate.php?candidate_id=8202</td>\n",
       "    </tr>\n",
       "    <tr>\n",
       "      <th>160</th>\n",
       "      <td>88</td>\n",
       "      <td>Shatrughan Sinha</td>\n",
       "      <td>PATNA SAHIB</td>\n",
       "      <td>BJP</td>\n",
       "      <td>Graduate</td>\n",
       "      <td>1317405961</td>\n",
       "      <td>168760929</td>\n",
       "      <td>1</td>\n",
       "      <td>candidate.php?candidate_id=88</td>\n",
       "    </tr>\n",
       "    <tr>\n",
       "      <th>164</th>\n",
       "      <td>8239</td>\n",
       "      <td>Srinivas Kesineni</td>\n",
       "      <td>VIJAYAWADA</td>\n",
       "      <td>TDP</td>\n",
       "      <td>10th Pass</td>\n",
       "      <td>1284122669</td>\n",
       "      <td>715462989</td>\n",
       "      <td>3</td>\n",
       "      <td>candidate.php?candidate_id=8239</td>\n",
       "    </tr>\n",
       "    <tr>\n",
       "      <th>32</th>\n",
       "      <td>6088</td>\n",
       "      <td>Captain Amarinder Singh</td>\n",
       "      <td>AMRITSAR</td>\n",
       "      <td>INC</td>\n",
       "      <td>Graduate</td>\n",
       "      <td>863564071</td>\n",
       "      <td>4853456</td>\n",
       "      <td>3</td>\n",
       "      <td>candidate.php?candidate_id=6088</td>\n",
       "    </tr>\n",
       "  </tbody>\n",
       "</table>\n",
       "</div>"
      ],
      "text/plain": [
       "      id2                     name     district  \\\n",
       "59   9455      Gokaraju Ganga Raju   NARSAPURAM   \n",
       "30   8202             Butta Renuka      KURNOOL   \n",
       "160    88         Shatrughan Sinha  PATNA SAHIB   \n",
       "164  8239        Srinivas Kesineni   VIJAYAWADA   \n",
       "32   6088  Captain Amarinder Singh     AMRITSAR   \n",
       "\n",
       "                                     party  education      assets  \\\n",
       "59                                     BJP   Graduate  2883567122   \n",
       "30   Yuvajana Sramika Rythu Congress Party  10th Pass  2426240513   \n",
       "160                                    BJP   Graduate  1317405961   \n",
       "164                                    TDP  10th Pass  1284122669   \n",
       "32                                     INC   Graduate   863564071   \n",
       "\n",
       "     liabilities  nr_crime                              url  \n",
       "59     168501286         1  candidate.php?candidate_id=9455  \n",
       "30     312279927         1  candidate.php?candidate_id=8202  \n",
       "160    168760929         1    candidate.php?candidate_id=88  \n",
       "164    715462989         3  candidate.php?candidate_id=8239  \n",
       "32       4853456         3  candidate.php?candidate_id=6088  "
      ]
     },
     "execution_count": 10,
     "metadata": {},
     "output_type": "execute_result"
    }
   ],
   "source": [
    "# Now we create a really big dictionary which stores url and page for each candidate\n",
    "# Work in progress...\n",
    "# First transform the thing into a dataframe\n",
    "\n",
    "df_pol = pd.DataFrame(dict_candidates)\n",
    "order_cols = ['id2','name','district','party','education','assets','liabilities','nr_crime','url']\n",
    "df_pol = df_pol[order_cols].sort(['assets'],ascending=0)\n",
    "\n",
    "df_small=df_pol[[\"id2\",\"url\"]][0:3] # I use df_small to test the code before running it on 8400 candidates!\n",
    "df_small\n",
    "df_pol.head()\n",
    "\n",
    "#Note already that the same guy can be candidate at 2 districts #\n",
    "# Might be a problem"
   ]
  },
  {
   "cell_type": "code",
   "execution_count": 11,
   "metadata": {
    "collapsed": true
   },
   "outputs": [],
   "source": [
    "urlcache={}"
   ]
  },
  {
   "cell_type": "code",
   "execution_count": 12,
   "metadata": {
    "collapsed": false
   },
   "outputs": [],
   "source": [
    "def get_page(url):\n",
    "    # Check if URL has already been visited.\n",
    "    if (url not in urlcache) or (urlcache[url]==1) or (urlcache[url]==2):\n",
    "        time.sleep(1)\n",
    "        print len(urlcache)\n",
    "        # try/except blocks are used whenever the code could generate an exception (e.g. division by zero).\n",
    "        # In this case we don't know if the page really exists, or even if it does, if we'll be able to reach it.\n",
    "        try:\n",
    "            r = requests.get(\"http://myneta.info/ls2014/%s\" % url)\n",
    "\n",
    "            if r.status_code == 200:\n",
    "                urlcache[url] = r.text\n",
    "            else:\n",
    "                urlcache[url] = 1\n",
    "        except:\n",
    "            urlcache[url] = 2\n",
    "    return urlcache[url]"
   ]
  },
  {
   "cell_type": "code",
   "execution_count": 13,
   "metadata": {
    "collapsed": false
   },
   "outputs": [
    {
     "data": {
      "text/plain": [
       "59     \\t\\t\\t<html>\\n\\t\\t\\t\\t<head>\\n\\t\\t\\t\\t   <titl...\n",
       "30     \\t\\t\\t<html>\\n\\t\\t\\t\\t<head>\\n\\t\\t\\t\\t   <titl...\n",
       "160    \\t\\t\\t<html>\\n\\t\\t\\t\\t<head>\\n\\t\\t\\t\\t   <titl...\n",
       "164    \\t\\t\\t<html>\\n\\t\\t\\t\\t<head>\\n\\t\\t\\t\\t   <titl...\n",
       "32     \\t\\t\\t<html>\\n\\t\\t\\t\\t<head>\\n\\t\\t\\t\\t   <titl...\n",
       "39     \\t\\t\\t<html>\\n\\t\\t\\t\\t<head>\\n\\t\\t\\t\\t   <titl...\n",
       "127    \\t\\t\\t<html>\\n\\t\\t\\t\\t<head>\\n\\t\\t\\t\\t   <titl...\n",
       "16     \\t\\t\\t<html>\\n\\t\\t\\t\\t<head>\\n\\t\\t\\t\\t   <titl...\n",
       "24     \\t\\t\\t<html>\\n\\t\\t\\t\\t<head>\\n\\t\\t\\t\\t   <titl...\n",
       "162    \\t\\t\\t<html>\\n\\t\\t\\t\\t<head>\\n\\t\\t\\t\\t   <titl...\n",
       "146    \\t\\t\\t<html>\\n\\t\\t\\t\\t<head>\\n\\t\\t\\t\\t   <titl...\n",
       "65     \\t\\t\\t<html>\\n\\t\\t\\t\\t<head>\\n\\t\\t\\t\\t   <titl...\n",
       "121    \\t\\t\\t<html>\\n\\t\\t\\t\\t<head>\\n\\t\\t\\t\\t   <titl...\n",
       "41     \\t\\t\\t<html>\\n\\t\\t\\t\\t<head>\\n\\t\\t\\t\\t   <titl...\n",
       "21     \\t\\t\\t<html>\\n\\t\\t\\t\\t<head>\\n\\t\\t\\t\\t   <titl...\n",
       "166    \\t\\t\\t<html>\\n\\t\\t\\t\\t<head>\\n\\t\\t\\t\\t   <titl...\n",
       "91     \\t\\t\\t<html>\\n\\t\\t\\t\\t<head>\\n\\t\\t\\t\\t   <titl...\n",
       "105    \\t\\t\\t<html>\\n\\t\\t\\t\\t<head>\\n\\t\\t\\t\\t   <titl...\n",
       "99     \\t\\t\\t<html>\\n\\t\\t\\t\\t<head>\\n\\t\\t\\t\\t   <titl...\n",
       "101    \\t\\t\\t<html>\\n\\t\\t\\t\\t<head>\\n\\t\\t\\t\\t   <titl...\n",
       "10     \\t\\t\\t<html>\\n\\t\\t\\t\\t<head>\\n\\t\\t\\t\\t   <titl...\n",
       "139    \\t\\t\\t<html>\\n\\t\\t\\t\\t<head>\\n\\t\\t\\t\\t   <titl...\n",
       "3      \\t\\t\\t<html>\\n\\t\\t\\t\\t<head>\\n\\t\\t\\t\\t   <titl...\n",
       "11     \\t\\t\\t<html>\\n\\t\\t\\t\\t<head>\\n\\t\\t\\t\\t   <titl...\n",
       "122    \\t\\t\\t<html>\\n\\t\\t\\t\\t<head>\\n\\t\\t\\t\\t   <titl...\n",
       "147    \\t\\t\\t<html>\\n\\t\\t\\t\\t<head>\\n\\t\\t\\t\\t   <titl...\n",
       "107    \\t\\t\\t<html>\\n\\t\\t\\t\\t<head>\\n\\t\\t\\t\\t   <titl...\n",
       "40     \\t\\t\\t<html>\\n\\t\\t\\t\\t<head>\\n\\t\\t\\t\\t   <titl...\n",
       "106    \\t\\t\\t<html>\\n\\t\\t\\t\\t<head>\\n\\t\\t\\t\\t   <titl...\n",
       "38     \\t\\t\\t<html>\\n\\t\\t\\t\\t<head>\\n\\t\\t\\t\\t   <titl...\n",
       "                             ...                        \n",
       "63     \\t\\t\\t<html>\\n\\t\\t\\t\\t<head>\\n\\t\\t\\t\\t   <titl...\n",
       "134    \\t\\t\\t<html>\\n\\t\\t\\t\\t<head>\\n\\t\\t\\t\\t   <titl...\n",
       "67     \\t\\t\\t<html>\\n\\t\\t\\t\\t<head>\\n\\t\\t\\t\\t   <titl...\n",
       "138    \\t\\t\\t<html>\\n\\t\\t\\t\\t<head>\\n\\t\\t\\t\\t   <titl...\n",
       "131    \\t\\t\\t<html>\\n\\t\\t\\t\\t<head>\\n\\t\\t\\t\\t   <titl...\n",
       "110    \\t\\t\\t<html>\\n\\t\\t\\t\\t<head>\\n\\t\\t\\t\\t   <titl...\n",
       "94     \\t\\t\\t<html>\\n\\t\\t\\t\\t<head>\\n\\t\\t\\t\\t   <titl...\n",
       "37     \\t\\t\\t<html>\\n\\t\\t\\t\\t<head>\\n\\t\\t\\t\\t   <titl...\n",
       "27     \\t\\t\\t<html>\\n\\t\\t\\t\\t<head>\\n\\t\\t\\t\\t   <titl...\n",
       "22     \\t\\t\\t<html>\\n\\t\\t\\t\\t<head>\\n\\t\\t\\t\\t   <titl...\n",
       "5      \\t\\t\\t<html>\\n\\t\\t\\t\\t<head>\\n\\t\\t\\t\\t   <titl...\n",
       "182    \\t\\t\\t<html>\\n\\t\\t\\t\\t<head>\\n\\t\\t\\t\\t   <titl...\n",
       "169    \\t\\t\\t<html>\\n\\t\\t\\t\\t<head>\\n\\t\\t\\t\\t   <titl...\n",
       "152    \\t\\t\\t<html>\\n\\t\\t\\t\\t<head>\\n\\t\\t\\t\\t   <titl...\n",
       "120    \\t\\t\\t<html>\\n\\t\\t\\t\\t<head>\\n\\t\\t\\t\\t   <titl...\n",
       "28     \\t\\t\\t<html>\\n\\t\\t\\t\\t<head>\\n\\t\\t\\t\\t   <titl...\n",
       "64     \\t\\t\\t<html>\\n\\t\\t\\t\\t<head>\\n\\t\\t\\t\\t   <titl...\n",
       "98     \\t\\t\\t<html>\\n\\t\\t\\t\\t<head>\\n\\t\\t\\t\\t   <titl...\n",
       "100    \\t\\t\\t<html>\\n\\t\\t\\t\\t<head>\\n\\t\\t\\t\\t   <titl...\n",
       "72     \\t\\t\\t<html>\\n\\t\\t\\t\\t<head>\\n\\t\\t\\t\\t   <titl...\n",
       "97     \\t\\t\\t<html>\\n\\t\\t\\t\\t<head>\\n\\t\\t\\t\\t   <titl...\n",
       "102    \\t\\t\\t<html>\\n\\t\\t\\t\\t<head>\\n\\t\\t\\t\\t   <titl...\n",
       "148    \\t\\t\\t<html>\\n\\t\\t\\t\\t<head>\\n\\t\\t\\t\\t   <titl...\n",
       "118    \\t\\t\\t<html>\\n\\t\\t\\t\\t<head>\\n\\t\\t\\t\\t   <titl...\n",
       "109    \\t\\t\\t<html>\\n\\t\\t\\t\\t<head>\\n\\t\\t\\t\\t   <titl...\n",
       "150    \\t\\t\\t<html>\\n\\t\\t\\t\\t<head>\\n\\t\\t\\t\\t   <titl...\n",
       "154    \\t\\t\\t<html>\\n\\t\\t\\t\\t<head>\\n\\t\\t\\t\\t   <titl...\n",
       "15     \\t\\t\\t<html>\\n\\t\\t\\t\\t<head>\\n\\t\\t\\t\\t   <titl...\n",
       "155    \\t\\t\\t<html>\\n\\t\\t\\t\\t<head>\\n\\t\\t\\t\\t   <titl...\n",
       "103    \\t\\t\\t<html>\\n\\t\\t\\t\\t<head>\\n\\t\\t\\t\\t   <titl...\n",
       "Name: url, dtype: object"
      ]
     },
     "execution_count": 13,
     "metadata": {},
     "output_type": "execute_result"
    }
   ],
   "source": [
    "df_pol[\"url\"].apply(get_page) # This is a very long call\n",
    "                              # I am saving it in order to run it only once"
   ]
  },
  {
   "cell_type": "code",
   "execution_count": 14,
   "metadata": {
    "collapsed": false
   },
   "outputs": [
    {
     "name": "stdout",
     "output_type": "stream",
     "text": [
      "0\n",
      "True\n"
     ]
    }
   ],
   "source": [
    "print np.sum([(urlcache[k]==1) or (urlcache[k]==2) for k in urlcache])# no one or 0's\n",
    "print len(df_pol.url.unique())==len(urlcache)#we got all of the urls"
   ]
  },
  {
   "cell_type": "code",
   "execution_count": 15,
   "metadata": {
    "collapsed": false
   },
   "outputs": [],
   "source": [
    "with open(\"tempdata/polinfo.json\",\"w\") as fd:\n",
    "    json.dump(urlcache, fd)\n",
    "del urlcache"
   ]
  },
  {
   "cell_type": "code",
   "execution_count": 16,
   "metadata": {
    "collapsed": true
   },
   "outputs": [],
   "source": [
    "with open(\"tempdata/polinfo.json\") as json_file:\n",
    "    pol_pages = json.load(json_file) # Next iterations will start from here!"
   ]
  },
  {
   "cell_type": "code",
   "execution_count": 31,
   "metadata": {
    "collapsed": false
   },
   "outputs": [],
   "source": [
    "# Now each candidate has an url - so later we  will parse each of their pages and scrape them#\n",
    "#But first let's look how the page looks like for a few individual candidates\n",
    "pages_list = [pol_pages[x] for x in df_pol['url'][0:10]] # List of 10 that we can start looking at\n",
    "\n",
    "page_candidate = pages_list[8]\n",
    "c_soup = BeautifulSoup(page_candidate,\"html.parser\")\n"
   ]
  },
  {
   "cell_type": "code",
   "execution_count": 32,
   "metadata": {
    "collapsed": false
   },
   "outputs": [
    {
     "name": "stdout",
     "output_type": "stream",
     "text": [
      "BARNE SHRIRANG CHANDU (Winner) \n",
      " works as a: Farming & Construction Business . \n",
      " Profession of spouse: Farming & Transport Business . \n",
      " Address:              Shri Nivas, Near Padmaji Paper Mill, Thergaon, Pune 33 , in district:  \n",
      "        MAVAL  (MAHARASHTRA)\n",
      "         for party: SHS\n",
      "  The dude is 50 years old\n",
      "\n",
      " \n",
      " \n",
      "8\n"
     ]
    }
   ],
   "source": [
    "#### Personal info #########\n",
    "\n",
    "personal = c_soup.findAll(attrs={\"class\": \"grid_3 alpha\"})[0]\n",
    "full_name = personal.find(\"h2\").get_text()\n",
    "district1 = personal.find(\"h5\").get_text()\n",
    "grid2 = personal.findAll(attrs={\"class\":\"grid_2 alpha\"})\n",
    "party_full = grid2[0].get_text().split(\":\")[1]\n",
    "age = int(grid2[2].get_text().split(\":\")[1])\n",
    "address = grid2[3].get_text().split(\":\")[1].split(\"\\n\")[1] # Careful this one changes\n",
    "self_profession = personal.find(\"p\").get_text().split('\\n')[0].split(\":\")[1]\n",
    "spouse_profession = personal.find(\"p\").get_text().split('\\n')[1].split(\":\")[1]\n",
    "print full_name, \"\\n works as a:\", self_profession, \". \\n Profession of spouse:\", spouse_profession, \". \\n Address: \",\n",
    "print address, \", in district: \", district1, \"for party:\", party_full, \"The dude is\", age, \"years old\"\n",
    "\n",
    "########## Assets  & Criminality ###########\n",
    "# Ok let's get serious and find his assets and criminal activity\n",
    "all_tables = c_soup.findAll(\"table\")\n",
    "print \"\\n \\n \\n\" , len(all_tables)\n",
    "table_inc = all_tables[0]\n",
    "table_crim = all_tables[1]\n",
    "table_assets1 = all_tables[2]\n",
    "table_assets2 = all_tables[3]\n",
    "table_liab = all_tables[4]\n",
    "#print table_inc\n",
    "# That does not really work: some have a table for criminal activities, others not\n",
    "# So we need more work to know exactly how to have the right table correspond to the right thing\n"
   ]
  },
  {
   "cell_type": "code",
   "execution_count": null,
   "metadata": {
    "collapsed": true
   },
   "outputs": [],
   "source": []
  }
 ],
 "metadata": {
  "kernelspec": {
   "display_name": "Python 2",
   "language": "python",
   "name": "python2"
  },
  "language_info": {
   "codemirror_mode": {
    "name": "ipython",
    "version": 2
   },
   "file_extension": ".py",
   "mimetype": "text/x-python",
   "name": "python",
   "nbconvert_exporter": "python",
   "pygments_lexer": "ipython2",
   "version": "2.7.10"
  }
 },
 "nbformat": 4,
 "nbformat_minor": 0
}
